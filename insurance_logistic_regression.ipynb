{
 "cells": [
  {
   "cell_type": "code",
   "execution_count": 1,
   "id": "e84b6b4d",
   "metadata": {},
   "outputs": [],
   "source": [
    "import numpy as np\n",
    "import pandas as pd\n",
    "import matplotlib.pyplot as plt"
   ]
  },
  {
   "cell_type": "code",
   "execution_count": 2,
   "id": "26b5afac",
   "metadata": {},
   "outputs": [],
   "source": [
    "df = pd.read_csv('insurance (1).csv')"
   ]
  },
  {
   "cell_type": "code",
   "execution_count": 3,
   "id": "2ee4bffa",
   "metadata": {},
   "outputs": [
    {
     "data": {
      "text/html": [
       "<div>\n",
       "<style scoped>\n",
       "    .dataframe tbody tr th:only-of-type {\n",
       "        vertical-align: middle;\n",
       "    }\n",
       "\n",
       "    .dataframe tbody tr th {\n",
       "        vertical-align: top;\n",
       "    }\n",
       "\n",
       "    .dataframe thead th {\n",
       "        text-align: right;\n",
       "    }\n",
       "</style>\n",
       "<table border=\"1\" class=\"dataframe\">\n",
       "  <thead>\n",
       "    <tr style=\"text-align: right;\">\n",
       "      <th></th>\n",
       "      <th>Age</th>\n",
       "      <th>Insurance</th>\n",
       "    </tr>\n",
       "  </thead>\n",
       "  <tbody>\n",
       "    <tr>\n",
       "      <th>0</th>\n",
       "      <td>16</td>\n",
       "      <td>0</td>\n",
       "    </tr>\n",
       "    <tr>\n",
       "      <th>1</th>\n",
       "      <td>18</td>\n",
       "      <td>0</td>\n",
       "    </tr>\n",
       "    <tr>\n",
       "      <th>2</th>\n",
       "      <td>21</td>\n",
       "      <td>0</td>\n",
       "    </tr>\n",
       "    <tr>\n",
       "      <th>3</th>\n",
       "      <td>22</td>\n",
       "      <td>0</td>\n",
       "    </tr>\n",
       "    <tr>\n",
       "      <th>4</th>\n",
       "      <td>23</td>\n",
       "      <td>0</td>\n",
       "    </tr>\n",
       "  </tbody>\n",
       "</table>\n",
       "</div>"
      ],
      "text/plain": [
       "   Age  Insurance\n",
       "0   16          0\n",
       "1   18          0\n",
       "2   21          0\n",
       "3   22          0\n",
       "4   23          0"
      ]
     },
     "execution_count": 3,
     "metadata": {},
     "output_type": "execute_result"
    }
   ],
   "source": [
    "df.head()"
   ]
  },
  {
   "cell_type": "code",
   "execution_count": 4,
   "id": "6eaa66f7",
   "metadata": {},
   "outputs": [],
   "source": [
    "X = df.drop(\"Insurance\",axis=1)\n",
    "y = df['Insurance']"
   ]
  },
  {
   "cell_type": "code",
   "execution_count": 7,
   "id": "2ec001eb",
   "metadata": {},
   "outputs": [],
   "source": [
    "from sklearn.linear_model import LogisticRegression"
   ]
  },
  {
   "cell_type": "code",
   "execution_count": 8,
   "id": "ddbe9b4a",
   "metadata": {},
   "outputs": [],
   "source": [
    "lg = LogisticRegression()"
   ]
  },
  {
   "cell_type": "code",
   "execution_count": 9,
   "id": "bc9457e5",
   "metadata": {},
   "outputs": [
    {
     "data": {
      "text/plain": [
       "LogisticRegression()"
      ]
     },
     "execution_count": 9,
     "metadata": {},
     "output_type": "execute_result"
    }
   ],
   "source": [
    "lg.fit(X,y)"
   ]
  },
  {
   "cell_type": "code",
   "execution_count": 10,
   "id": "23e3cb6c",
   "metadata": {},
   "outputs": [
    {
     "name": "stderr",
     "output_type": "stream",
     "text": [
      "C:\\Users\\hp\\anaconda3\\lib\\site-packages\\sklearn\\base.py:450: UserWarning: X does not have valid feature names, but LogisticRegression was fitted with feature names\n",
      "  warnings.warn(\n"
     ]
    },
    {
     "data": {
      "text/plain": [
       "array([0], dtype=int64)"
      ]
     },
     "execution_count": 10,
     "metadata": {},
     "output_type": "execute_result"
    }
   ],
   "source": [
    "lg.predict([[34]])"
   ]
  },
  {
   "cell_type": "code",
   "execution_count": 11,
   "id": "0d3feaa0",
   "metadata": {},
   "outputs": [
    {
     "name": "stderr",
     "output_type": "stream",
     "text": [
      "C:\\Users\\hp\\anaconda3\\lib\\site-packages\\sklearn\\base.py:450: UserWarning: X does not have valid feature names, but LogisticRegression was fitted with feature names\n",
      "  warnings.warn(\n"
     ]
    },
    {
     "data": {
      "text/plain": [
       "array([[0.73627799, 0.26372201]])"
      ]
     },
     "execution_count": 11,
     "metadata": {},
     "output_type": "execute_result"
    }
   ],
   "source": [
    "lg.predict_proba([[34]])"
   ]
  },
  {
   "cell_type": "code",
   "execution_count": 16,
   "id": "c0299d92",
   "metadata": {},
   "outputs": [
    {
     "data": {
      "image/png": "[encoded data removed]",
      "text/plain": [
       "<Figure size 640x480 with 1 Axes>"
      ]
     },
     "metadata": {},
     "output_type": "display_data"
    }
   ],
   "source": [
    "plt.xlabel(\"Age\")\n",
    "plt.ylabel(\"Insurance\")\n",
    "plt.scatter(X,y)\n",
    "plt.show()"
   ]
  },
  {
   "cell_type": "code",
   "execution_count": 18,
   "id": "6100bc4b",
   "metadata": {},
   "outputs": [],
   "source": [
    "y_pred = lg.predict(X)"
   ]
  },
  {
   "cell_type": "code",
   "execution_count": 19,
   "id": "b7a056d7",
   "metadata": {},
   "outputs": [
    {
     "data": {
      "text/plain": [
       "array([0, 0, 0, 0, 0, 0, 0, 0, 0, 0, 0, 0, 0, 0, 0, 1, 1, 1, 1, 1, 1, 1,\n",
       "       1, 1, 1, 1, 1, 1, 1, 1], dtype=int64)"
      ]
     },
     "execution_count": 19,
     "metadata": {},
     "output_type": "execute_result"
    }
   ],
   "source": [
    "y_pred"
   ]
  },
  {
   "cell_type": "code",
   "execution_count": 21,
   "id": "b1f16d06",
   "metadata": {},
   "outputs": [],
   "source": [
    "y_pred_prob = lg.predict_proba(X)"
   ]
  },
  {
   "cell_type": "code",
   "execution_count": 22,
   "id": "ec1afedf",
   "metadata": {},
   "outputs": [
    {
     "data": {
      "text/plain": [
       "array([[0.98558086, 0.01441914],\n",
       "       [0.9795547 , 0.0204453 ],\n",
       "       [0.96565505, 0.03434495],\n",
       "       [0.95924965, 0.04075035],\n",
       "       [0.95170938, 0.04829062],\n",
       "       [0.94285701, 0.05714299],\n",
       "       [0.92041718, 0.07958282],\n",
       "       [0.90639269, 0.09360731],\n",
       "       [0.85035276, 0.14964724],\n",
       "       [0.79931865, 0.20068135],\n",
       "       [0.79931865, 0.20068135],\n",
       "       [0.79931865, 0.20068135],\n",
       "       [0.76930247, 0.23069753],\n",
       "       [0.70036732, 0.29963268],\n",
       "       [0.66181278, 0.33818722],\n",
       "       [0.49018246, 0.50981754],\n",
       "       [0.40260939, 0.59739061],\n",
       "       [0.3208358 , 0.6791642 ],\n",
       "       [0.21705237, 0.78294763],\n",
       "       [0.16270247, 0.83729753],\n",
       "       [0.11987806, 0.88012194],\n",
       "       [0.10236212, 0.89763788],\n",
       "       [0.06272341, 0.93727659],\n",
       "       [0.06272341, 0.93727659],\n",
       "       [0.02252755, 0.97747245],\n",
       "       [0.01119656, 0.98880344],\n",
       "       [0.01119656, 0.98880344],\n",
       "       [0.00939113, 0.99060887],\n",
       "       [0.00787451, 0.99212549],\n",
       "       [0.00553261, 0.99446739]])"
      ]
     },
     "execution_count": 22,
     "metadata": {},
     "output_type": "execute_result"
    }
   ],
   "source": [
    "y_pred_prob"
   ]
  },
  {
   "cell_type": "code",
   "execution_count": 23,
   "id": "41e216ef",
   "metadata": {},
   "outputs": [],
   "source": [
    "y_prob = y_pred_prob[:,1]"
   ]
  },
  {
   "cell_type": "code",
   "execution_count": 24,
   "id": "ab4d38d0",
   "metadata": {},
   "outputs": [
    {
     "data": {
      "text/plain": [
       "array([0.01441914, 0.0204453 , 0.03434495, 0.04075035, 0.04829062,\n",
       "       0.05714299, 0.07958282, 0.09360731, 0.14964724, 0.20068135,\n",
       "       0.20068135, 0.20068135, 0.23069753, 0.29963268, 0.33818722,\n",
       "       0.50981754, 0.59739061, 0.6791642 , 0.78294763, 0.83729753,\n",
       "       0.88012194, 0.89763788, 0.93727659, 0.93727659, 0.97747245,\n",
       "       0.98880344, 0.98880344, 0.99060887, 0.99212549, 0.99446739])"
      ]
     },
     "execution_count": 24,
     "metadata": {},
     "output_type": "execute_result"
    }
   ],
   "source": [
    "y_prob"
   ]
  },
  {
   "cell_type": "code",
   "execution_count": 25,
   "id": "a1b4089f",
   "metadata": {},
   "outputs": [
    {
     "data": {
      "image/png": "[encoded data removed]",
      "text/plain": [
       "<Figure size 640x480 with 1 Axes>"
      ]
     },
     "metadata": {},
     "output_type": "display_data"
    }
   ],
   "source": [
    "plt.xlabel(\"Age\")\n",
    "plt.ylabel(\"Insurance\")\n",
    "plt.scatter(X, y)\n",
    "plt.plot(X, y_prob, \"r-\")\n",
    "plt.show()"
   ]
  },
  {
   "cell_type": "markdown",
   "id": "74904047",
   "metadata": {},
   "source": [
    "formula = 1 / (1 + (np.exp(-(m*x + c))))"
   ]
  },
  {
   "cell_type": "code",
   "execution_count": 27,
   "id": "87cc8e41",
   "metadata": {},
   "outputs": [
    {
     "data": {
      "text/plain": [
       "array([[0.17766457]])"
      ]
     },
     "execution_count": 27,
     "metadata": {},
     "output_type": "execute_result"
    }
   ],
   "source": [
    "coef = lg.coef_\n",
    "coef"
   ]
  },
  {
   "cell_type": "code",
   "execution_count": 28,
   "id": "94fec88b",
   "metadata": {},
   "outputs": [
    {
     "data": {
      "text/plain": [
       "array([-7.06730745])"
      ]
     },
     "execution_count": 28,
     "metadata": {},
     "output_type": "execute_result"
    }
   ],
   "source": [
    "intercept = lg.intercept_\n",
    "intercept"
   ]
  },
  {
   "cell_type": "code",
   "execution_count": 29,
   "id": "8246ed2b",
   "metadata": {},
   "outputs": [],
   "source": [
    "reg_line = coef * X + intercept"
   ]
  },
  {
   "cell_type": "code",
   "execution_count": 30,
   "id": "670b687c",
   "metadata": {},
   "outputs": [],
   "source": [
    "log_reg_line = 1 / (1 + (np.exp(-(coef*X + intercept))))"
   ]
  },
  {
   "cell_type": "code",
   "execution_count": 31,
   "id": "20cce1e5",
   "metadata": {},
   "outputs": [
    {
     "data": {
      "image/png": "[encoded data removed]",
      "text/plain": [
       "<Figure size 640x480 with 1 Axes>"
      ]
     },
     "metadata": {},
     "output_type": "display_data"
    },
    {
     "data": {
      "text/plain": [
       "<Figure size 640x480 with 0 Axes>"
      ]
     },
     "metadata": {},
     "output_type": "display_data"
    }
   ],
   "source": [
    "%matplotlib inline\n",
    "plt.xlabel(\"Age\")\n",
    "plt.ylabel(\"Insurance\")\n",
    "plt.scatter(X, y)\n",
    "# plt.plot(X, reg_line)\n",
    "plt.plot(X, log_reg_line, \"r-\")\n",
    "plt.figure()\n",
    "plt.show()"
   ]
  },
  {
   "cell_type": "code",
   "execution_count": null,
   "id": "b1a7a83e",
   "metadata": {},
   "outputs": [],
   "source": []
  },
  {
   "cell_type": "code",
   "execution_count": null,
   "id": "1ab4a1b9",
   "metadata": {},
   "outputs": [],
   "source": []
  }
 ],
 "metadata": {
  "kernelspec": {
   "display_name": "Python 3 (ipykernel)",
   "language": "python",
   "name": "python3"
  },
  "language_info": {
   "codemirror_mode": {
    "name": "ipython",
    "version": 3
   },
   "file_extension": ".py",
   "mimetype": "text/x-python",
   "name": "python",
   "nbconvert_exporter": "python",
   "pygments_lexer": "ipython3",
   "version": "3.9.13"
  }
 },
 "nbformat": 4,
 "nbformat_minor": 5
}
